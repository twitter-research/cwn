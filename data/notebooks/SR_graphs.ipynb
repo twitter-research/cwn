{
 "cells": [
  {
   "cell_type": "code",
   "execution_count": 7,
   "metadata": {},
   "outputs": [],
   "source": [
    "from sr_utils import load_sr_dataset\n",
    "import networkx as nx"
   ]
  },
  {
   "cell_type": "code",
   "execution_count": 26,
   "metadata": {},
   "outputs": [],
   "source": [
    "families_3 = [\n",
    "    'sr401224',\n",
    "    'sr361446',\n",
    "    'sr261034',\n",
    "    'sr16622']\n",
    "families_4 = [\n",
    "    'sr351899',\n",
    "    'sr351668',\n",
    "    'sr291467',\n",
    "    'sr281264',\n",
    "    'sr251256']\n",
    "path = './../datasets/SR_graphs/raw/{}.g6'"
   ]
  },
  {
   "cell_type": "code",
   "execution_count": 32,
   "metadata": {},
   "outputs": [
    {
     "name": "stdout",
     "output_type": "stream",
     "text": [
      "---\n",
      "7 sr351899\n",
      "7 sr281264\n"
     ]
    }
   ],
   "source": [
    "for fam in families_3:\n",
    "    nx_graphs = nx.read_graph6(path.format(fam))\n",
    "    max_size = 0\n",
    "    for graph in nx_graphs:\n",
    "        cliques = nx.find_cliques_recursive(graph)\n",
    "        for clique in cliques:\n",
    "            size = len(clique)\n",
    "            if size > max_size:\n",
    "                max_size = size\n",
    "    if max_size - 1 != 3:\n",
    "        print(max_size, fam)\n",
    "print('---')       \n",
    "for fam in families_4:\n",
    "    nx_graphs = nx.read_graph6(path.format(fam))\n",
    "    max_size = 0\n",
    "    for graph in nx_graphs:\n",
    "        cliques = nx.find_cliques_recursive(graph)\n",
    "        for clique in cliques:\n",
    "            size = len(clique)\n",
    "            if size > max_size:\n",
    "                max_size = size\n",
    "    if max_size - 1 != 4:\n",
    "        print(max_size, fam)"
   ]
  },
  {
   "cell_type": "code",
   "execution_count": 19,
   "metadata": {},
   "outputs": [
    {
     "name": "stdout",
     "output_type": "stream",
     "text": [
      "4\n"
     ]
    }
   ],
   "source": [
    "for graph in nx_graphs:\n",
    "    cliques = nx.find_cliques_recursive(graph)\n",
    "    max_size = 0\n",
    "    for clique in cliques:\n",
    "        size = len(clique)\n",
    "        if size > max_size:\n",
    "            max_size = size\n",
    "print(max_size)"
   ]
  },
  {
   "cell_type": "code",
   "execution_count": null,
   "metadata": {},
   "outputs": [],
   "source": []
  }
 ],
 "metadata": {
  "kernelspec": {
   "display_name": "Environment (conda_scn_102)",
   "language": "python",
   "name": "conda_scn_102"
  },
  "language_info": {
   "codemirror_mode": {
    "name": "ipython",
    "version": 3
   },
   "file_extension": ".py",
   "mimetype": "text/x-python",
   "name": "python",
   "nbconvert_exporter": "python",
   "pygments_lexer": "ipython3",
   "version": "3.8.5"
  }
 },
 "nbformat": 4,
 "nbformat_minor": 2
}
